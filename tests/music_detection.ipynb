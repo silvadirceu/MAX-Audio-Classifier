{
 "cells": [
  {
   "cell_type": "code",
   "execution_count": null,
   "id": "9eb525ec-1d96-4740-a03b-c32255da3af6",
   "metadata": {},
   "outputs": [],
   "source": [
    "import librosa\n",
    "import io\n",
    "import requests\n",
    "import time\n",
    "from utils.serializers import ndarray_to_bytes"
   ]
  },
  {
   "cell_type": "code",
   "execution_count": null,
   "id": "2c2f5bea-c294-4a98-a3bf-fc59d0c20b9a",
   "metadata": {},
   "outputs": [],
   "source": [
    "def max_request(signal, url, topN=None) -> dict:\n",
    "    audio_bytes = ndarray_to_bytes(signal)\n",
    "    buf = io.BytesIO()\n",
    "    buf.write(audio_bytes)\n",
    "    # sf.write(buf, signal, fs, format='WAV', endian='LITTLE', subtype='PCM_16')\n",
    "    buf.seek(0)\n",
    "\n",
    "    if topN is not None:\n",
    "        url += \"?topN={:d}\".format(topN)\n",
    "\n",
    "    response = (requests.post(url, files={\"audio\": buf})).json()\n",
    "    print(response)\n",
    "\n",
    "    return response[\"predictions\"], response[\"music_score\"]\n",
    "\n",
    "\n",
    "def remote_classification(audio, fs):\n",
    "    url_base = Params.max_url\n",
    "\n",
    "    signal = audio\n",
    "    segment_signal = signal[: int(10 * fs)]\n",
    "    segment_duration = 10  # 10s\n",
    "    topN = None\n",
    "\n",
    "    samples_per_segment = fs * segment_duration\n",
    "    num_segments = len(signal) // samples_per_segment\n",
    "    # start = time.time()\n",
    "    predictions = []\n",
    "    music_score = []\n",
    "    for i in range(num_segments):\n",
    "        start_sample = i * samples_per_segment\n",
    "        end_sample = (i + 1) * samples_per_segment\n",
    "        segment_signal = signal[start_sample:end_sample]\n",
    "        classes, music_prob = max_request(\n",
    "            signal=segment_signal, url=url_base, topN=topN\n",
    "        )\n",
    "        predictions.append(\n",
    "            {\n",
    "                \"classes\": classes,\n",
    "                \"music_score\": music_prob,\n",
    "                \"inicio\": float(start_sample) / fs,\n",
    "                \"fim\": float(end_sample) / fs,\n",
    "            }\n",
    "        )\n",
    "        music_score.append(music_prob[0][\"probability\"])\n",
    "    return predictions, np.asarray(music_score)\n",
    "\n",
    "\n",
    "def predict(audio, metadata):\n",
    "    predictions, music_score = remote_classification(audio, metadata[\"fs\"])\n",
    "\n",
    "    # read Audio\n",
    "    # print(\"reading audio...\")\n",
    "    # scores_yam, scores_time_ref = compute_scores_yam(\n",
    "    #     model=model_yam, file=file, params=params_yamnet\n",
    "    # )\n",
    "\n",
    "    # Process Classification\n",
    "    print(\"processing...\")\n",
    "    # decision = audioclassification_process(\n",
    "    #     scores_yam=scores_yam,\n",
    "    #     scores_time_ref=scores_time_ref,\n",
    "    #     class_names=class_names_yam,\n",
    "    #     task_name=task,\n",
    "    #     params=params_yamnet,\n",
    "    # )\n",
    "\n",
    "    decision = {\n",
    "        \"classes\": [{\"class_name\": \"class_name\", \"prob\": 0.6}],\n",
    "        \"inicio\": 110,\n",
    "        \"fim\": 330,\n",
    "        \"music_probability\": float(0.9),\n",
    "    }\n",
    "\n",
    "    return decision, music_score"
   ]
  },
  {
   "cell_type": "code",
   "execution_count": null,
   "id": "a155eaac-5cba-4241-84bc-7af2221c12c3",
   "metadata": {},
   "outputs": [],
   "source": [
    "decision, music_score = predict(task_data[\"audio\"], task_data[\"metadata\"])"
   ]
  },
  {
   "cell_type": "code",
   "execution_count": null,
   "id": "20f92c9b-a88c-4b8b-9f5c-369ad936afad",
   "metadata": {},
   "outputs": [],
   "source": [
    "\n",
    "\n",
    "\n",
    "\n",
    "\n",
    "if __name__ == \"__main__\":\n",
    "    #file = \"/home/joao/Desktop/Ecad/database/audio/tasks/139743/139743.ogg\"\n",
    "    file = '/mnt/dev/dirceusilva/dados/Cover/setlist_65k/audio/tasks/139850/139850.ogg' \n",
    "    url_base = \"http://localhost:5000/model/predict/bytes\"\n",
    "\n",
    "    signal, fs = librosa.load(file, mono=True, sr=16000)\n",
    "    segment_signal = signal[:int(10 * fs)]\n",
    "    segment_duration = 10  # 10s\n",
    "    topN = 5\n",
    "\n",
    "    samples_per_segment = fs * segment_duration\n",
    "    num_segments = len(signal) // samples_per_segment\n",
    "    start = time.time()\n",
    "    predictions = []\n",
    "    music_score = []\n",
    "    for i in range(num_segments):\n",
    "        start_sample = i * samples_per_segment\n",
    "        end_sample = (i + 1) * samples_per_segment\n",
    "        segment_signal = signal[start_sample:end_sample]\n",
    "        classes, music_prob = max_request(signal=segment_signal, url=url_base, topN=topN)\n",
    "        predictions.append({\"classes\":classes, \"music_score\": music_prob, \"inicio\":float(start_sample)/fs, \"fim\":float(end_sample)/fs })\n",
    "        music_score.append(music_prob)\n",
    "\n",
    "    music_score = np.asarray(music_score)\n",
    "    # max_request(signal=signal)\n",
    "    #print(predictions)\n",
    "    print(music_score)\n",
    "    print(f\"{time.time()-start}\")\n",
    "    print(f\"Segment {num_segments}\")"
   ]
  },
  {
   "cell_type": "code",
   "execution_count": null,
   "id": "c396338c-5129-4a39-af3b-d917f3a7232a",
   "metadata": {},
   "outputs": [],
   "source": []
  },
  {
   "cell_type": "code",
   "execution_count": null,
   "id": "ad95c90e-a90a-42dc-8d2f-684290406fe2",
   "metadata": {},
   "outputs": [],
   "source": []
  },
  {
   "cell_type": "code",
   "execution_count": 14,
   "id": "b6125228-290c-4589-ba93-28375ca315d5",
   "metadata": {},
   "outputs": [
    {
     "data": {
      "text/plain": [
       "1145"
      ]
     },
     "execution_count": 14,
     "metadata": {},
     "output_type": "execute_result"
    }
   ],
   "source": [
    "len(predictions)"
   ]
  },
  {
   "cell_type": "code",
   "execution_count": null,
   "id": "ef5e4e6d-039b-40d5-a523-1f266f218d65",
   "metadata": {},
   "outputs": [],
   "source": []
  },
  {
   "cell_type": "code",
   "execution_count": null,
   "id": "ceccfdc8-894a-4343-aaa1-f22e64a9078b",
   "metadata": {},
   "outputs": [],
   "source": []
  }
 ],
 "metadata": {
  "kernelspec": {
   "display_name": "Python 3 (ipykernel)",
   "language": "python",
   "name": "python3"
  },
  "language_info": {
   "codemirror_mode": {
    "name": "ipython",
    "version": 3
   },
   "file_extension": ".py",
   "mimetype": "text/x-python",
   "name": "python",
   "nbconvert_exporter": "python",
   "pygments_lexer": "ipython3",
   "version": "3.9.17"
  }
 },
 "nbformat": 4,
 "nbformat_minor": 5
}
